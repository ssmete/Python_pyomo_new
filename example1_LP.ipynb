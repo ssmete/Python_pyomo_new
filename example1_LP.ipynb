{
  "nbformat": 4,
  "nbformat_minor": 0,
  "metadata": {
    "colab": {
      "name": "example1_LP.ipynb",
      "provenance": [],
      "authorship_tag": "ABX9TyOLFF94CLkuMpEzvk+ho1Kc",
      "include_colab_link": true
    },
    "kernelspec": {
      "name": "python3",
      "display_name": "Python 3"
    },
    "language_info": {
      "name": "python"
    }
  },
  "cells": [
    {
      "cell_type": "markdown",
      "metadata": {
        "id": "view-in-github",
        "colab_type": "text"
      },
      "source": [
        "<a href=\"https://colab.research.google.com/github/ssmete/Python_pyomo_new/blob/main/example1_LP.ipynb\" target=\"_parent\"><img src=\"https://colab.research.google.com/assets/colab-badge.svg\" alt=\"Open In Colab\"/></a>"
      ]
    },
    {
      "cell_type": "markdown",
      "metadata": {
        "id": "gbZNwrdUPE5a"
      },
      "source": [
        "Welcome to coding in Google Colab. Before using the environment to building and running our optimization models, we need to install some packages\n",
        "\n",
        "Note : This install has to be done each time you start the colab session fresh\n"
      ]
    },
    {
      "cell_type": "code",
      "metadata": {
        "colab": {
          "base_uri": "https://localhost:8080/"
        },
        "id": "BDIBGnVDPo8K",
        "outputId": "d34514f1-5542-4ced-d8ad-fb2c9437c3da"
      },
      "source": [
        "!pip install pyomo\n",
        "!apt-get install -y -qq glpk-utils\n",
        "import pyomo.environ as pyomo"
      ],
      "execution_count": 15,
      "outputs": [
        {
          "output_type": "stream",
          "name": "stdout",
          "text": [
            "Requirement already satisfied: pyomo in /usr/local/lib/python3.7/dist-packages (6.1.2)\n",
            "Requirement already satisfied: ply in /usr/local/lib/python3.7/dist-packages (from pyomo) (3.11)\n"
          ]
        }
      ]
    },
    {
      "cell_type": "markdown",
      "metadata": {
        "id": "ppOIqkBDQFgZ"
      },
      "source": [
        "Example 1 - The Dorian auto advertisement campaign"
      ]
    },
    {
      "cell_type": "code",
      "metadata": {
        "colab": {
          "base_uri": "https://localhost:8080/"
        },
        "id": "lsmr8l1EQXC5",
        "outputId": "9aa87ade-1edb-4b9f-8c03-272dfd151ec6"
      },
      "source": [
        "# Model definition - must be done at the begining\n",
        "\n",
        "model = pyomo.ConcreteModel();\n",
        "\n",
        "#Variable declaration\n",
        "\n",
        "model.x1=pyomo.Var(); # Number of the comedy ads purchased\n",
        "model.x2=pyomo.Var(); # Number of the football ads purchased\n",
        "\n",
        "# Objective function definition\n",
        "\n",
        "model.obj=pyomo.Objective(expr=50*model.x1+100*model.x2);\n",
        "\n",
        "\n",
        "# Constraints definition\n",
        "\n",
        "def rule1(model):\n",
        "    return 7*model.x1 + 2* model.x2 >= 28\n",
        "model.eq1 =pyomo.Constraint(rule =rule1, doc='Constraint 1');\n",
        "\n",
        "def rule2(model):\n",
        "     return 2*model.x1 +12*model.x2 >= 24\n",
        "\n",
        "model.rq2=pyomo.Constraint(rule=rule2, doc='Constraints 2');\n",
        "\n",
        "# Solve options \n",
        "# When running in colab, add the PATH for solver executable file\n",
        "results =pyomo.SolverFactory('glpk', PATH='/usr/bin/glpsol').solve(model);\n",
        "\n",
        "#priniting results\n",
        "\n",
        "results.write()\n",
        "\n",
        "print('\\n Results \\n');\n",
        "\n",
        "print('cost of the advertisement campaign',model.obj());\n",
        "\n",
        "print('Number of the comedy ads purchased',model.x1());\n",
        "\n",
        "print('Number of the football ads purchased',model.x2());\n",
        "\n",
        "\n",
        "\n",
        "\n",
        "\n",
        "\n",
        "\n"
      ],
      "execution_count": 16,
      "outputs": [
        {
          "output_type": "stream",
          "name": "stdout",
          "text": [
            "# ==========================================================\n",
            "# = Solver Results                                         =\n",
            "# ==========================================================\n",
            "# ----------------------------------------------------------\n",
            "#   Problem Information\n",
            "# ----------------------------------------------------------\n",
            "Problem: \n",
            "- Name: unknown\n",
            "  Lower bound: 320.0\n",
            "  Upper bound: 320.0\n",
            "  Number of objectives: 1\n",
            "  Number of constraints: 3\n",
            "  Number of variables: 3\n",
            "  Number of nonzeros: 5\n",
            "  Sense: minimize\n",
            "# ----------------------------------------------------------\n",
            "#   Solver Information\n",
            "# ----------------------------------------------------------\n",
            "Solver: \n",
            "- Status: ok\n",
            "  Termination condition: optimal\n",
            "  Statistics: \n",
            "    Branch and bound: \n",
            "      Number of bounded subproblems: 0\n",
            "      Number of created subproblems: 0\n",
            "  Error rc: 0\n",
            "  Time: 0.007737636566162109\n",
            "# ----------------------------------------------------------\n",
            "#   Solution Information\n",
            "# ----------------------------------------------------------\n",
            "Solution: \n",
            "- number of solutions: 0\n",
            "  number of solutions displayed: 0\n",
            "\n",
            " Results \n",
            "\n",
            "cost of the advertisement campaign 320.0\n",
            "Number of the comedy ads purchased 3.6\n",
            "Number of the football ads purchased 1.4\n"
          ]
        }
      ]
    },
    {
      "cell_type": "markdown",
      "metadata": {
        "id": "jRaVAOi-EeXE"
      },
      "source": [
        "# Example 2 Post office employee scheduling "
      ]
    },
    {
      "cell_type": "code",
      "metadata": {
        "colab": {
          "base_uri": "https://localhost:8080/"
        },
        "id": "3z3EBIKxTETG",
        "outputId": "a7e5d6f8-7562-41b1-b62e-8ede23830e68"
      },
      "source": [
        "# Model definition\n",
        "model=pyomo.ConcreteModel();\n",
        "\n",
        "# Variable definition \n",
        "model.x1=pyomo.Var();\n",
        "model.x2=pyomo.Var();\n",
        "model.x3=pyomo.Var();\n",
        "model.x4=pyomo.Var();\n",
        "model.x5=pyomo.Var();\n",
        "model.x6=pyomo.Var();\n",
        "model.x7=pyomo.Var();\n",
        "\n",
        "#Objective function \n",
        "\n",
        "model.obj= pyomo.Objective(expr=model.x1+model.x2+model.x3+model.x4+model.x5+model.x6+model.x7);\n",
        "\n",
        "#Constraint definition\n",
        "\n",
        "def rule1(model):\n",
        "    return model.x1+model.x4+model.x5+model.x6+model.x7 >= 17\n",
        "model.eq1=pyomo.Constraint(rule=rule1,doc='Monday requirement'); \n",
        "\n",
        "def rule2(model):\n",
        "    return model.x1+model.x2+model.x5+model.x6+model.x7 >= 13\n",
        "model.eq2=pyomo.Constraint(rule=rule2,doc='Tuesday requirement');\n",
        "\n",
        "def rule3(model):\n",
        "    return model.x1+model.x2+model.x3+model.x6+model.x7 >= 15\n",
        "model.eq3=pyomo.Constraint(rule=rule3,doc='Wednesday requirement'); \n",
        "\n",
        "def rule4(model):\n",
        "    return model.x1+model.x2+model.x3+model.x4+model.x7 >= 19\n",
        "model.eq4=pyomo.Constraint(rule=rule4,doc='Thursday requirement'); \n",
        "\n",
        "def rule5(model):\n",
        "    return model.x1+model.x2+model.x3+model.x4+model.x5 >= 14\n",
        "model.eq5=pyomo.Constraint(rule=rule5,doc='Friday requirement'); \n",
        "\n",
        "def rule6(model):\n",
        "    return model.x2+model.x3+model.x4+model.x5+model.x6 >= 16\n",
        "model.eq6=pyomo.Constraint(rule=rule6,doc='Saturday requirement'); \n",
        "\n",
        "def rule7(model):\n",
        "    return model.x3+model.x4+model.x5+model.x6+model.x7 >= 11\n",
        "model.eq7=pyomo.Constraint(rule=rule7,doc='Sunday requirement'); \n",
        "\n",
        "def rule8(model):\n",
        "    return model.x1>=0\n",
        "model.eq8=pyomo.Constraint(rule=rule8, doc='Non negativity for Monday');    \n",
        "\n",
        "def rule9(model):\n",
        "    return model.x2>=0\n",
        "model.eq9=pyomo.Constraint(rule=rule9, doc='Non negativity for Tuesday');  \n",
        "\n",
        "def rule10(model):\n",
        "    return model.x3>=0\n",
        "model.eq10=pyomo.Constraint(rule=rule10, doc='Non negativity for Wednesday');  \n",
        "\n",
        "def rule11(model):\n",
        "    return model.x4>=0\n",
        "model.eq11=pyomo.Constraint(rule=rule11, doc='Non negativity for Thurday');  \n",
        "\n",
        "def rule12(model):\n",
        "    return model.x5>=0\n",
        "model.eq12=pyomo.Constraint(rule=rule12, doc='Non negativity for Friday');  \n",
        "\n",
        "def rule13(model):\n",
        "    return model.x6>=0\n",
        "model.eq13=pyomo.Constraint(rule=rule13, doc='Non negativity for Saturday');  \n",
        "\n",
        "def rule14(model):\n",
        "    return model.x7>=0\n",
        "model.eq14=pyomo.Constraint(rule=rule14, doc='Non negativity for Sunday');  \n",
        "#solve options\n",
        "\n",
        "results=pyomo.SolverFactory('glpk',executable='/usr/bin/glpsol').solve(model)\n",
        "\n",
        "#printing results\n",
        "results.write();\n",
        "\n",
        "print('\\n RESULTS \\n');\n",
        "\n",
        "print(\"Optimal number of workers\",model.obj());\n",
        "\n",
        "print(\"Number of workers starting on Monday\",model.x1());\n",
        "print(\"Number of workers starting on Monday\",model.x2());\n",
        "print(\"Number of workers starting on Monday\",model.x3());\n",
        "print(\"Number of workers starting on Monday\",model.x4());\n",
        "print(\"Number of workers starting on Monday\",model.x5());\n",
        "print(\"Number of workers starting on Monday\",model.x6());\n",
        "print(\"Number of workers starting on Monday\",model.x7());\n"
      ],
      "execution_count": 17,
      "outputs": [
        {
          "output_type": "stream",
          "name": "stdout",
          "text": [
            "# ==========================================================\n",
            "# = Solver Results                                         =\n",
            "# ==========================================================\n",
            "# ----------------------------------------------------------\n",
            "#   Problem Information\n",
            "# ----------------------------------------------------------\n",
            "Problem: \n",
            "- Name: unknown\n",
            "  Lower bound: 22.3333333333333\n",
            "  Upper bound: 22.3333333333333\n",
            "  Number of objectives: 1\n",
            "  Number of constraints: 15\n",
            "  Number of variables: 8\n",
            "  Number of nonzeros: 43\n",
            "  Sense: minimize\n",
            "# ----------------------------------------------------------\n",
            "#   Solver Information\n",
            "# ----------------------------------------------------------\n",
            "Solver: \n",
            "- Status: ok\n",
            "  Termination condition: optimal\n",
            "  Statistics: \n",
            "    Branch and bound: \n",
            "      Number of bounded subproblems: 0\n",
            "      Number of created subproblems: 0\n",
            "  Error rc: 0\n",
            "  Time: 0.008068084716796875\n",
            "# ----------------------------------------------------------\n",
            "#   Solution Information\n",
            "# ----------------------------------------------------------\n",
            "Solution: \n",
            "- number of solutions: 0\n",
            "  number of solutions displayed: 0\n",
            "\n",
            " RESULTS \n",
            "\n",
            "Optimal number of workers 22.33333333333332\n",
            "Number of workers starting on Monday 6.33333333333333\n",
            "Number of workers starting on Monday 3.33333333333333\n",
            "Number of workers starting on Monday 2.0\n",
            "Number of workers starting on Monday 7.33333333333333\n",
            "Number of workers starting on Monday 0.0\n",
            "Number of workers starting on Monday 3.33333333333333\n",
            "Number of workers starting on Monday 0.0\n"
          ]
        }
      ]
    },
    {
      "cell_type": "markdown",
      "metadata": {
        "id": "XIqpb8p1T5dA"
      },
      "source": [
        "# Example 3 example 1 revisited "
      ]
    },
    {
      "cell_type": "code",
      "metadata": {
        "id": "kFO8nxh-W6GE",
        "colab": {
          "base_uri": "https://localhost:8080/"
        },
        "outputId": "f0d09013-6f4f-490a-af1a-3b6207d4a8ac"
      },
      "source": [
        "# define the model\n",
        "model=pyomo.ConcreteModel();\n",
        "\n",
        "#Set declaration\n",
        "model.c=pyomo.Set(initialize=['HIW','HIM']);\n",
        "model.a=pyomo.Set(initialize=['comedy','football']);\n",
        "\n",
        "# Variable declaration\n",
        "model.x= pyomo.Var(model.a);\n",
        "\n",
        "#parameter declaration\n",
        "model.theta=pyomo.Param(model.a,initialize={'comedy':50,'football':100});\n",
        "\n",
        "model.alpha=pyomo.Param(model.c,initialize={'HIW':28,'HIM':24});\n",
        "\n",
        "model.mu=pyomo.Param(model.a,model.c,initialize={('comedy','HIW'):7,('comedy','HIM'):2,('football','HIW'):2,('football','HIM'):12});\n",
        "                     \n",
        "#Objective function definition\n",
        "model.obj=pyomo.Objective(expr=sum(model.theta[a]*model.x[a] for a in model.a),sense=pyomo.minimize);\n",
        "\n",
        "#constraint definition\n",
        "\n",
        "def rule1(model,c):\n",
        "  return sum(model.mu[a,c]*model.x[a] for a in model.a) >= model.alpha[c]\n",
        "\n",
        "model.eq1=pyomo.Constraint(model.c,rule=rule1,doc='Viewrship requirement');\n",
        "\n",
        "#solver options\n",
        "\n",
        "results=pyomo.SolverFactory('glpk',executable='/usr/bin/glpsol').solve(model);\n",
        "\n",
        "#printing results\n",
        "\n",
        "results.write()\n",
        "\n",
        "print(\"\\n RESULTS \\n\");\n",
        "print(\"Cost of advertisement campaign=\",model.obj());\n",
        "print(\"Number of comedy ads purchased=\",model.x['comedy']());\n",
        "print(\"Number of football ads purcased=\",model.x['football']());\n"
      ],
      "execution_count": 32,
      "outputs": [
        {
          "output_type": "stream",
          "name": "stdout",
          "text": [
            "# ==========================================================\n",
            "# = Solver Results                                         =\n",
            "# ==========================================================\n",
            "# ----------------------------------------------------------\n",
            "#   Problem Information\n",
            "# ----------------------------------------------------------\n",
            "Problem: \n",
            "- Name: unknown\n",
            "  Lower bound: 320.0\n",
            "  Upper bound: 320.0\n",
            "  Number of objectives: 1\n",
            "  Number of constraints: 3\n",
            "  Number of variables: 3\n",
            "  Number of nonzeros: 5\n",
            "  Sense: minimize\n",
            "# ----------------------------------------------------------\n",
            "#   Solver Information\n",
            "# ----------------------------------------------------------\n",
            "Solver: \n",
            "- Status: ok\n",
            "  Termination condition: optimal\n",
            "  Statistics: \n",
            "    Branch and bound: \n",
            "      Number of bounded subproblems: 0\n",
            "      Number of created subproblems: 0\n",
            "  Error rc: 0\n",
            "  Time: 0.008591413497924805\n",
            "# ----------------------------------------------------------\n",
            "#   Solution Information\n",
            "# ----------------------------------------------------------\n",
            "Solution: \n",
            "- number of solutions: 0\n",
            "  number of solutions displayed: 0\n",
            "\n",
            " RESULTS \n",
            "\n",
            "Cost of advertisement campaign= 320.0\n",
            "Number of comedy ads purchased= 3.6\n",
            "Number of football ads purcased= 1.4\n"
          ]
        }
      ]
    },
    {
      "cell_type": "markdown",
      "metadata": {
        "id": "60O75jOJUnyQ"
      },
      "source": [
        "# Example LP_2 Revisited "
      ]
    },
    {
      "cell_type": "code",
      "metadata": {
        "colab": {
          "base_uri": "https://localhost:8080/"
        },
        "id": "C01sRhenUw-A",
        "outputId": "cf4df43f-0922-4a0d-ecea-f88b541626df"
      },
      "source": [
        "# Model definition\n",
        "model=pyomo.ConcreteModel();\n",
        "\n",
        "#Set declaration\n",
        "model.a=pyomo.RangeSet(7,doc='Days of week, Starting Monday');\n",
        "\n",
        "# Variable definition \n",
        "model.x= pyomo.Var(model.a,domain=pyomo.NonNegativeReals, \n",
        "                   doc='Number of workers begining work on day 1. starting Monday. they work consecutive days');\n",
        "\n",
        "#parameter declaration\n",
        "\n",
        "model.alpha=pyomo.Param(model.a,initialize={1:17, 2:13, 3:15, 4:19, 5:14, 6:16, 7:11});\n",
        "\n",
        "\n",
        "#Objective function \n",
        "\n",
        "model.obj=pyomo.Objective(expr=sum(model.x[a] for a in model.a),sense=pyomo.minimize);\n",
        "\n",
        "\n",
        "#Constraint definition\n",
        "\n",
        "def rule1(model,a):\n",
        "    if a <=5:\n",
        "      return sum(model.x[a] for a in model.a)-model.x[a+1]-model.x[a+2] >= model.alpha[a]\n",
        "    elif a==6:\n",
        "      return sum(model.x[a] for a in model.a)-model.x[7]-model.x[1] >= model.alpha[a]  \n",
        "    elif a==7:\n",
        "      return sum(model.x[a] for a in model.a)-model.x[1]-model.x[2] >= model.alpha[a] \n",
        "\n",
        "\n",
        "\n",
        "model.eq1=pyomo.Constraint(model.a,rule=rule1); \n",
        "\n",
        "#solve options\n",
        "\n",
        "results=pyomo.SolverFactory('glpk',executable='/usr/bin/glpsol').solve(model)\n",
        "\n",
        "#printing results\n",
        "results.write();\n",
        "\n",
        "print('\\n RESULTS \\n');\n",
        "\n",
        "print(\"Optimal number of workers\",model.obj());\n",
        "\n",
        "print(\"Number of workers starting on Monday\",model.x[1].value);\n",
        "print(\"Number of workers starting on Monday\",model.x[2].value);\n",
        "print(\"Number of workers starting on Monday\",model.x[3].value);\n",
        "print(\"Number of workers starting on Monday\",model.x[4].value);\n",
        "print(\"Number of workers starting on Monday\",model.x[5].value);\n",
        "print(\"Number of workers starting on Monday\",model.x[6].value);\n",
        "print(\"Number of workers starting on Monday\",model.x[7].value);\n"
      ],
      "execution_count": 33,
      "outputs": [
        {
          "output_type": "stream",
          "name": "stdout",
          "text": [
            "# ==========================================================\n",
            "# = Solver Results                                         =\n",
            "# ==========================================================\n",
            "# ----------------------------------------------------------\n",
            "#   Problem Information\n",
            "# ----------------------------------------------------------\n",
            "Problem: \n",
            "- Name: unknown\n",
            "  Lower bound: 22.3333333333333\n",
            "  Upper bound: 22.3333333333333\n",
            "  Number of objectives: 1\n",
            "  Number of constraints: 8\n",
            "  Number of variables: 8\n",
            "  Number of nonzeros: 36\n",
            "  Sense: minimize\n",
            "# ----------------------------------------------------------\n",
            "#   Solver Information\n",
            "# ----------------------------------------------------------\n",
            "Solver: \n",
            "- Status: ok\n",
            "  Termination condition: optimal\n",
            "  Statistics: \n",
            "    Branch and bound: \n",
            "      Number of bounded subproblems: 0\n",
            "      Number of created subproblems: 0\n",
            "  Error rc: 0\n",
            "  Time: 0.007959127426147461\n",
            "# ----------------------------------------------------------\n",
            "#   Solution Information\n",
            "# ----------------------------------------------------------\n",
            "Solution: \n",
            "- number of solutions: 0\n",
            "  number of solutions displayed: 0\n",
            "\n",
            " RESULTS \n",
            "\n",
            "Optimal number of workers 22.33333333333332\n",
            "Number of workers starting on Monday 6.33333333333333\n",
            "Number of workers starting on Monday 3.33333333333333\n",
            "Number of workers starting on Monday 2.0\n",
            "Number of workers starting on Monday 7.33333333333333\n",
            "Number of workers starting on Monday 0.0\n",
            "Number of workers starting on Monday 3.33333333333333\n",
            "Number of workers starting on Monday 0.0\n"
          ]
        }
      ]
    }
  ]
}