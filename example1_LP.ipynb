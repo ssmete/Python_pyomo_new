{
  "nbformat": 4,
  "nbformat_minor": 0,
  "metadata": {
    "colab": {
      "name": "example1_LP.ipynb",
      "provenance": [],
      "authorship_tag": "ABX9TyPZQcM0DoLnQtM/c/wm9nFb",
      "include_colab_link": true
    },
    "kernelspec": {
      "name": "python3",
      "display_name": "Python 3"
    },
    "language_info": {
      "name": "python"
    }
  },
  "cells": [
    {
      "cell_type": "markdown",
      "metadata": {
        "id": "view-in-github",
        "colab_type": "text"
      },
      "source": [
        "<a href=\"https://colab.research.google.com/github/ssmete/Python_pyomo_new/blob/main/example1_LP.ipynb\" target=\"_parent\"><img src=\"https://colab.research.google.com/assets/colab-badge.svg\" alt=\"Open In Colab\"/></a>"
      ]
    },
    {
      "cell_type": "markdown",
      "metadata": {
        "id": "gbZNwrdUPE5a"
      },
      "source": [
        "Welcome to coding in Google Colab. Before using the environment to building and running our optimization models, we need to install some packages\n",
        "\n",
        "Note : This install has to be done each time you start the colab session fresh\n"
      ]
    },
    {
      "cell_type": "code",
      "metadata": {
        "colab": {
          "base_uri": "https://localhost:8080/"
        },
        "id": "BDIBGnVDPo8K",
        "outputId": "0cc689dd-95fd-49b8-b8b8-c38ca76b7dad"
      },
      "source": [
        "!pip install pyomo\n",
        "!apt-get install -y -qq glpk-utils\n",
        "import pyomo.environ as pyomo"
      ],
      "execution_count": 6,
      "outputs": [
        {
          "output_type": "stream",
          "name": "stdout",
          "text": [
            "Collecting pyomo\n",
            "  Downloading Pyomo-6.1.2-cp37-cp37m-manylinux_2_5_x86_64.manylinux1_x86_64.manylinux_2_12_x86_64.manylinux2010_x86_64.whl (9.1 MB)\n",
            "\u001b[K     |████████████████████████████████| 9.1 MB 10.3 MB/s \n",
            "\u001b[?25hCollecting ply\n",
            "  Downloading ply-3.11-py2.py3-none-any.whl (49 kB)\n",
            "\u001b[K     |████████████████████████████████| 49 kB 5.3 MB/s \n",
            "\u001b[?25hInstalling collected packages: ply, pyomo\n",
            "Successfully installed ply-3.11 pyomo-6.1.2\n",
            "Selecting previously unselected package libsuitesparseconfig5:amd64.\n",
            "(Reading database ... 148492 files and directories currently installed.)\n",
            "Preparing to unpack .../libsuitesparseconfig5_1%3a5.1.2-2_amd64.deb ...\n",
            "Unpacking libsuitesparseconfig5:amd64 (1:5.1.2-2) ...\n",
            "Selecting previously unselected package libamd2:amd64.\n",
            "Preparing to unpack .../libamd2_1%3a5.1.2-2_amd64.deb ...\n",
            "Unpacking libamd2:amd64 (1:5.1.2-2) ...\n",
            "Selecting previously unselected package libcolamd2:amd64.\n",
            "Preparing to unpack .../libcolamd2_1%3a5.1.2-2_amd64.deb ...\n",
            "Unpacking libcolamd2:amd64 (1:5.1.2-2) ...\n",
            "Selecting previously unselected package libglpk40:amd64.\n",
            "Preparing to unpack .../libglpk40_4.65-1_amd64.deb ...\n",
            "Unpacking libglpk40:amd64 (4.65-1) ...\n",
            "Selecting previously unselected package glpk-utils.\n",
            "Preparing to unpack .../glpk-utils_4.65-1_amd64.deb ...\n",
            "Unpacking glpk-utils (4.65-1) ...\n",
            "Setting up libsuitesparseconfig5:amd64 (1:5.1.2-2) ...\n",
            "Setting up libcolamd2:amd64 (1:5.1.2-2) ...\n",
            "Setting up libamd2:amd64 (1:5.1.2-2) ...\n",
            "Setting up libglpk40:amd64 (4.65-1) ...\n",
            "Setting up glpk-utils (4.65-1) ...\n",
            "Processing triggers for libc-bin (2.27-3ubuntu1.2) ...\n",
            "/sbin/ldconfig.real: /usr/local/lib/python3.7/dist-packages/ideep4py/lib/libmkldnn.so.0 is not a symbolic link\n",
            "\n",
            "Processing triggers for man-db (2.8.3-2ubuntu0.1) ...\n"
          ]
        }
      ]
    },
    {
      "cell_type": "markdown",
      "metadata": {
        "id": "ppOIqkBDQFgZ"
      },
      "source": [
        "Example 1 - The Dorian auto advertisement campaign"
      ]
    },
    {
      "cell_type": "code",
      "metadata": {
        "colab": {
          "base_uri": "https://localhost:8080/"
        },
        "id": "lsmr8l1EQXC5",
        "outputId": "eac6e07d-f97d-4ec5-caa2-d9dcd8ad6382"
      },
      "source": [
        "# Model definition - must be done at the begining\n",
        "\n",
        "model = pyomo.ConcreteModel();\n",
        "\n",
        "#Variable declaration\n",
        "\n",
        "model.x1=pyomo.Var(); # Number of the comedy ads purchased\n",
        "model.x2=pyomo.Var(); # Number of the football ads purchased\n",
        "\n",
        "# Objective function definition\n",
        "\n",
        "model.obj=pyomo.Objective(expr=50*model.x1+100*model.x2);\n",
        "\n",
        "\n",
        "# Constraints definition\n",
        "\n",
        "def rule1(model):\n",
        "    return 7*model.x1 + 2* model.x2 >= 28\n",
        "model.eq1 =pyomo.Constraint(rule =rule1, doc='Constraint 1');\n",
        "\n",
        "def rule2(model):\n",
        "     return 2*model.x1 +12*model.x2 >= 24\n",
        "\n",
        "model.rq2=pyomo.Constraint(rule=rule2, doc='Constraints 2');\n",
        "\n",
        "# Solve options \n",
        "# When running in colab, add the PATH for solver executable file\n",
        "results =pyomo.SolverFactory('glpk', PATH='/usr/bin/glpsol').solve(model);\n",
        "\n",
        "#priniting results\n",
        "\n",
        "results.write()\n",
        "\n",
        "print('\\n Results \\n');\n",
        "\n",
        "print('cost of the advertisement campaign',model.obj());\n",
        "\n",
        "print('Number of the comedy ads purchased',model.x1());\n",
        "\n",
        "print('Number of the football ads purchased',model.x2());\n",
        "\n",
        "\n",
        "\n",
        "\n",
        "\n",
        "\n",
        "\n"
      ],
      "execution_count": 7,
      "outputs": [
        {
          "output_type": "stream",
          "name": "stdout",
          "text": [
            "# ==========================================================\n",
            "# = Solver Results                                         =\n",
            "# ==========================================================\n",
            "# ----------------------------------------------------------\n",
            "#   Problem Information\n",
            "# ----------------------------------------------------------\n",
            "Problem: \n",
            "- Name: unknown\n",
            "  Lower bound: 320.0\n",
            "  Upper bound: 320.0\n",
            "  Number of objectives: 1\n",
            "  Number of constraints: 3\n",
            "  Number of variables: 3\n",
            "  Number of nonzeros: 5\n",
            "  Sense: minimize\n",
            "# ----------------------------------------------------------\n",
            "#   Solver Information\n",
            "# ----------------------------------------------------------\n",
            "Solver: \n",
            "- Status: ok\n",
            "  Termination condition: optimal\n",
            "  Statistics: \n",
            "    Branch and bound: \n",
            "      Number of bounded subproblems: 0\n",
            "      Number of created subproblems: 0\n",
            "  Error rc: 0\n",
            "  Time: 0.005970954895019531\n",
            "# ----------------------------------------------------------\n",
            "#   Solution Information\n",
            "# ----------------------------------------------------------\n",
            "Solution: \n",
            "- number of solutions: 0\n",
            "  number of solutions displayed: 0\n",
            "\n",
            " Results \n",
            "\n",
            "cost of the advertisement campaign 320.0\n",
            "Number of the comedy ads purchased 3.6\n",
            "Number of the football ads purchased 1.4\n"
          ]
        }
      ]
    },
    {
      "cell_type": "markdown",
      "metadata": {
        "id": "jRaVAOi-EeXE"
      },
      "source": [
        "# Example 2 Post office employee scheduling "
      ]
    },
    {
      "cell_type": "code",
      "metadata": {
        "colab": {
          "base_uri": "https://localhost:8080/"
        },
        "id": "3z3EBIKxTETG",
        "outputId": "ae6475e1-e983-49df-dc46-2a7619f70b93"
      },
      "source": [
        "# Model definition\n",
        "model=pyomo.ConcreteModel();\n",
        "\n",
        "# Variable definition \n",
        "model.x1=pyomo.Var();\n",
        "model.x2=pyomo.Var();\n",
        "model.x3=pyomo.Var();\n",
        "model.x4=pyomo.Var();\n",
        "model.x5=pyomo.Var();\n",
        "model.x6=pyomo.Var();\n",
        "model.x7=pyomo.Var();\n",
        "\n",
        "#Objective function \n",
        "\n",
        "model.obj= pyomo.Objective(expr=model.x1+model.x2+model.x3+model.x4+model.x5+model.x6+model.x7);\n",
        "\n",
        "#Constraint definition\n",
        "\n",
        "def rule1(model):\n",
        "    return model.x1+model.x4+model.x5+model.x6+model.x7 >= 17\n",
        "model.eq1=pyomo.Constraint(rule=rule1,doc='Monday requirement'); \n",
        "\n",
        "def rule2(model):\n",
        "    return model.x1+model.x2+model.x5+model.x6+model.x7 >= 13\n",
        "model.eq2=pyomo.Constraint(rule=rule2,doc='Tuesday requirement');\n",
        "\n",
        "def rule3(model):\n",
        "    return model.x1+model.x2+model.x3+model.x6+model.x7 >= 15\n",
        "model.eq3=pyomo.Constraint(rule=rule3,doc='Wednesday requirement'); \n",
        "\n",
        "def rule4(model):\n",
        "    return model.x1+model.x2+model.x3+model.x4+model.x7 >= 19\n",
        "model.eq4=pyomo.Constraint(rule=rule4,doc='Thursday requirement'); \n",
        "\n",
        "def rule5(model):\n",
        "    return model.x1+model.x2+model.x3+model.x4+model.x5 >= 14\n",
        "model.eq5=pyomo.Constraint(rule=rule5,doc='Friday requirement'); \n",
        "\n",
        "def rule6(model):\n",
        "    return model.x2+model.x3+model.x4+model.x5+model.x6 >= 16\n",
        "model.eq6=pyomo.Constraint(rule=rule6,doc='Saturday requirement'); \n",
        "\n",
        "def rule7(model):\n",
        "    return model.x3+model.x4+model.x5+model.x6+model.x7 >= 11\n",
        "model.eq7=pyomo.Constraint(rule=rule7,doc='Sunday requirement'); \n",
        "\n",
        "def rule8(model):\n",
        "    return model.x1>=0\n",
        "model.eq8=pyomo.Constraint(rule=rule8, doc='Non negativity for Monday');    \n",
        "\n",
        "def rule9(model):\n",
        "    return model.x2>=0\n",
        "model.eq9=pyomo.Constraint(rule=rule9, doc='Non negativity for Tuesday');  \n",
        "\n",
        "def rule10(model):\n",
        "    return model.x3>=0\n",
        "model.eq10=pyomo.Constraint(rule=rule10, doc='Non negativity for Wednesday');  \n",
        "\n",
        "def rule11(model):\n",
        "    return model.x4>=0\n",
        "model.eq11=pyomo.Constraint(rule=rule11, doc='Non negativity for Thurday');  \n",
        "\n",
        "def rule12(model):\n",
        "    return model.x5>=0\n",
        "model.eq12=pyomo.Constraint(rule=rule12, doc='Non negativity for Friday');  \n",
        "\n",
        "def rule13(model):\n",
        "    return model.x6>=0\n",
        "model.eq13=pyomo.Constraint(rule=rule13, doc='Non negativity for Saturday');  \n",
        "\n",
        "def rule14(model):\n",
        "    return model.x7>=0\n",
        "model.eq14=pyomo.Constraint(rule=rule14, doc='Non negativity for Sunday');  \n",
        "#solve options\n",
        "\n",
        "results=pyomo.SolverFactory('glpk',executable='/usr/bin/glpsol').solve(model)\n",
        "\n",
        "#printing results\n",
        "results.write();\n",
        "\n",
        "print('\\n RESULTS \\n');\n",
        "\n",
        "print(\"Optimal number of workers\",model.obj());\n",
        "\n",
        "print(\"Number of workers starting on Monday\",model.x1());\n",
        "print(\"Number of workers starting on Monday\",model.x2());\n",
        "print(\"Number of workers starting on Monday\",model.x3());\n",
        "print(\"Number of workers starting on Monday\",model.x4());\n",
        "print(\"Number of workers starting on Monday\",model.x5());\n",
        "print(\"Number of workers starting on Monday\",model.x6());\n",
        "print(\"Number of workers starting on Monday\",model.x7());\n"
      ],
      "execution_count": 8,
      "outputs": [
        {
          "output_type": "stream",
          "name": "stdout",
          "text": [
            "# ==========================================================\n",
            "# = Solver Results                                         =\n",
            "# ==========================================================\n",
            "# ----------------------------------------------------------\n",
            "#   Problem Information\n",
            "# ----------------------------------------------------------\n",
            "Problem: \n",
            "- Name: unknown\n",
            "  Lower bound: 22.3333333333333\n",
            "  Upper bound: 22.3333333333333\n",
            "  Number of objectives: 1\n",
            "  Number of constraints: 15\n",
            "  Number of variables: 8\n",
            "  Number of nonzeros: 43\n",
            "  Sense: minimize\n",
            "# ----------------------------------------------------------\n",
            "#   Solver Information\n",
            "# ----------------------------------------------------------\n",
            "Solver: \n",
            "- Status: ok\n",
            "  Termination condition: optimal\n",
            "  Statistics: \n",
            "    Branch and bound: \n",
            "      Number of bounded subproblems: 0\n",
            "      Number of created subproblems: 0\n",
            "  Error rc: 0\n",
            "  Time: 0.007567882537841797\n",
            "# ----------------------------------------------------------\n",
            "#   Solution Information\n",
            "# ----------------------------------------------------------\n",
            "Solution: \n",
            "- number of solutions: 0\n",
            "  number of solutions displayed: 0\n",
            "\n",
            " RESULTS \n",
            "\n",
            "Optimal number of workers 22.33333333333332\n",
            "Number of workers starting on Monday 6.33333333333333\n",
            "Number of workers starting on Monday 3.33333333333333\n",
            "Number of workers starting on Monday 2.0\n",
            "Number of workers starting on Monday 7.33333333333333\n",
            "Number of workers starting on Monday 0.0\n",
            "Number of workers starting on Monday 3.33333333333333\n",
            "Number of workers starting on Monday 0.0\n"
          ]
        }
      ]
    },
    {
      "cell_type": "markdown",
      "metadata": {
        "id": "XIqpb8p1T5dA"
      },
      "source": [
        "# Example 3 example 1 revisited "
      ]
    },
    {
      "cell_type": "code",
      "metadata": {
        "id": "kFO8nxh-W6GE",
        "colab": {
          "base_uri": "https://localhost:8080/"
        },
        "outputId": "5851f031-336f-4403-8e5a-ca12f7874a2b"
      },
      "source": [
        "# define the model\n",
        "model=pyomo.ConcreteModel();\n",
        "\n",
        "#Set declaration\n",
        "model.c=pyomo.Set(initialize=['HIW','HIM']);\n",
        "model.a=pyomo.Set(initialize=['comedy','football']);\n",
        "\n",
        "# Variable declaration\n",
        "model.x= pyomo.Var(model.a);\n",
        "\n",
        "#parameter declaration\n",
        "model.theta=pyomo.Param(model.a,initialize={'comedy':50,'football':100});\n",
        "\n",
        "model.alpha=pyomo.Param(model.c,initialize={'HIW':28,'HIM':24});\n",
        "\n",
        "model.mu=pyomo.Param(model.a,model.c,initialize={('comedy','HIW'):7,('comedy','HIM'):2,('football','HIW'):2,('football','HIM'):12});\n",
        "                     \n",
        "#Objective function definition\n",
        "model.obj=pyomo.Objective(expr=sum(model.theta[a]*model.x[a] for a in model.a),sense=pyomo.minimize);\n",
        "\n",
        "#constraint definition\n",
        "\n",
        "def rule1(model,c):\n",
        "  return sum(model.mu[a,c]*model.x[a] for a in model.a) >= model.alpha[c]\n",
        "\n",
        "model.eq1=pyomo.Constraint(model.c,rule=rule1,doc='Viewrship requirement');\n",
        "\n",
        "#solver options\n",
        "\n",
        "results=pyomo.SolverFactory('glpk',executable='/usr/bin/glpsol').solve(model);\n",
        "\n",
        "#printing results\n",
        "\n",
        "results.write()\n",
        "\n",
        "print(\"\\n RESULTS \\n\");\n",
        "print(\"Cost of advertisement campaign=\",model.obj());\n",
        "print(\"Number of comedy ads purchased=\",model.x['comedy']());\n",
        "print(\"Number of football ads purcased=\",model.x['football']());\n"
      ],
      "execution_count": 14,
      "outputs": [
        {
          "output_type": "stream",
          "name": "stdout",
          "text": [
            "# ==========================================================\n",
            "# = Solver Results                                         =\n",
            "# ==========================================================\n",
            "# ----------------------------------------------------------\n",
            "#   Problem Information\n",
            "# ----------------------------------------------------------\n",
            "Problem: \n",
            "- Name: unknown\n",
            "  Lower bound: 320.0\n",
            "  Upper bound: 320.0\n",
            "  Number of objectives: 1\n",
            "  Number of constraints: 3\n",
            "  Number of variables: 3\n",
            "  Number of nonzeros: 5\n",
            "  Sense: minimize\n",
            "# ----------------------------------------------------------\n",
            "#   Solver Information\n",
            "# ----------------------------------------------------------\n",
            "Solver: \n",
            "- Status: ok\n",
            "  Termination condition: optimal\n",
            "  Statistics: \n",
            "    Branch and bound: \n",
            "      Number of bounded subproblems: 0\n",
            "      Number of created subproblems: 0\n",
            "  Error rc: 0\n",
            "  Time: 0.007206439971923828\n",
            "# ----------------------------------------------------------\n",
            "#   Solution Information\n",
            "# ----------------------------------------------------------\n",
            "Solution: \n",
            "- number of solutions: 0\n",
            "  number of solutions displayed: 0\n",
            "\n",
            " RESULTS \n",
            "\n",
            "Cost of advertisement campaign= 320.0\n",
            "Number of comedy ads purchased= 3.6\n",
            "Number of football ads purcased= 1.4\n"
          ]
        }
      ]
    }
  ]
}