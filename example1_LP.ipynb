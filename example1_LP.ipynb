{
  "nbformat": 4,
  "nbformat_minor": 0,
  "metadata": {
    "colab": {
      "name": "example1_LP.ipynb",
      "provenance": [],
      "toc_visible": true,
      "authorship_tag": "ABX9TyMZgmIxMfVtsS8/eUHvVzCu",
      "include_colab_link": true
    },
    "kernelspec": {
      "name": "python3",
      "display_name": "Python 3"
    },
    "language_info": {
      "name": "python"
    }
  },
  "cells": [
    {
      "cell_type": "markdown",
      "metadata": {
        "id": "view-in-github",
        "colab_type": "text"
      },
      "source": [
        "<a href=\"https://colab.research.google.com/github/ssmete/Python_pyomo_new/blob/main/example1_LP.ipynb\" target=\"_parent\"><img src=\"https://colab.research.google.com/assets/colab-badge.svg\" alt=\"Open In Colab\"/></a>"
      ]
    },
    {
      "cell_type": "markdown",
      "metadata": {
        "id": "gbZNwrdUPE5a"
      },
      "source": [
        "Welcome to coding in Google Colab. Before using the environment to building and running our optimization models, we need to install some packages\n",
        "\n",
        "Note : This install has to be done each time you start the colab session fresh\n"
      ]
    },
    {
      "cell_type": "code",
      "metadata": {
        "colab": {
          "base_uri": "https://localhost:8080/"
        },
        "id": "BDIBGnVDPo8K",
        "outputId": "a8a701b0-f190-4eb6-fdac-62666f40edd1"
      },
      "source": [
        "!pip install pyomo\n",
        "!apt-get install -y -qq glpk-utils\n",
        "import pyomo.environ as pyomo"
      ],
      "execution_count": 1,
      "outputs": [
        {
          "output_type": "stream",
          "name": "stdout",
          "text": [
            "Collecting pyomo\n",
            "  Downloading Pyomo-6.1.2-cp37-cp37m-manylinux_2_5_x86_64.manylinux1_x86_64.manylinux_2_12_x86_64.manylinux2010_x86_64.whl (9.1 MB)\n",
            "\u001b[K     |████████████████████████████████| 9.1 MB 6.7 MB/s \n",
            "\u001b[?25hCollecting ply\n",
            "  Downloading ply-3.11-py2.py3-none-any.whl (49 kB)\n",
            "\u001b[K     |████████████████████████████████| 49 kB 6.3 MB/s \n",
            "\u001b[?25hInstalling collected packages: ply, pyomo\n",
            "Successfully installed ply-3.11 pyomo-6.1.2\n",
            "Selecting previously unselected package libsuitesparseconfig5:amd64.\n",
            "(Reading database ... 148492 files and directories currently installed.)\n",
            "Preparing to unpack .../libsuitesparseconfig5_1%3a5.1.2-2_amd64.deb ...\n",
            "Unpacking libsuitesparseconfig5:amd64 (1:5.1.2-2) ...\n",
            "Selecting previously unselected package libamd2:amd64.\n",
            "Preparing to unpack .../libamd2_1%3a5.1.2-2_amd64.deb ...\n",
            "Unpacking libamd2:amd64 (1:5.1.2-2) ...\n",
            "Selecting previously unselected package libcolamd2:amd64.\n",
            "Preparing to unpack .../libcolamd2_1%3a5.1.2-2_amd64.deb ...\n",
            "Unpacking libcolamd2:amd64 (1:5.1.2-2) ...\n",
            "Selecting previously unselected package libglpk40:amd64.\n",
            "Preparing to unpack .../libglpk40_4.65-1_amd64.deb ...\n",
            "Unpacking libglpk40:amd64 (4.65-1) ...\n",
            "Selecting previously unselected package glpk-utils.\n",
            "Preparing to unpack .../glpk-utils_4.65-1_amd64.deb ...\n",
            "Unpacking glpk-utils (4.65-1) ...\n",
            "Setting up libsuitesparseconfig5:amd64 (1:5.1.2-2) ...\n",
            "Setting up libcolamd2:amd64 (1:5.1.2-2) ...\n",
            "Setting up libamd2:amd64 (1:5.1.2-2) ...\n",
            "Setting up libglpk40:amd64 (4.65-1) ...\n",
            "Setting up glpk-utils (4.65-1) ...\n",
            "Processing triggers for libc-bin (2.27-3ubuntu1.2) ...\n",
            "/sbin/ldconfig.real: /usr/local/lib/python3.7/dist-packages/ideep4py/lib/libmkldnn.so.0 is not a symbolic link\n",
            "\n",
            "Processing triggers for man-db (2.8.3-2ubuntu0.1) ...\n"
          ]
        }
      ]
    },
    {
      "cell_type": "markdown",
      "metadata": {
        "id": "ppOIqkBDQFgZ"
      },
      "source": [
        "Example 1 - The Dorian auto advertisement campaign"
      ]
    },
    {
      "cell_type": "code",
      "metadata": {
        "colab": {
          "base_uri": "https://localhost:8080/"
        },
        "id": "lsmr8l1EQXC5",
        "outputId": "8e9bac81-177e-453a-cc2c-0796dcd7fd8d"
      },
      "source": [
        "# Model definition - must be done at the begining\n",
        "\n",
        "model = pyomo.ConcreteModel();\n",
        "\n",
        "#Variable declaration\n",
        "\n",
        "model.x1=pyomo.Var(); # Number of the comedy ads purchased\n",
        "model.x2=pyomo.Var(); # Number of the football ads purchased\n",
        "\n",
        "# Objective function definition\n",
        "\n",
        "model.obj=pyomo.Objective(expr=50*model.x1+100*model.x2);\n",
        "\n",
        "\n",
        "# Constraints definition\n",
        "\n",
        "def rule1(model):\n",
        "    return 7*model.x1 + 2* model.x2 >= 28\n",
        "model.eq1 =pyomo.Constraint(rule =rule1, doc='Constraint 1');\n",
        "\n",
        "def rule2(model):\n",
        "     return 2*model.x1 +12*model.x2 >= 24\n",
        "\n",
        "model.rq2=pyomo.Constraint(rule=rule2, doc='Constraints 2');\n",
        "\n",
        "# Solve options \n",
        "# When running in colab, add the PATH for solver executable file\n",
        "results =pyomo.SolverFactory('glpk', PATH='/usr/bin/glpsol').solve(model);\n",
        "\n",
        "#priniting results\n",
        "\n",
        "results.write()\n",
        "\n",
        "print('\\n Results \\n');\n",
        "\n",
        "print('cost of the advertisement campaign',model.obj());\n",
        "\n",
        "print('Number of the comedy ads purchased',model.x1());\n",
        "\n",
        "print('Number of the football ads purchased',model.x2());\n",
        "\n",
        "\n",
        "\n",
        "\n",
        "\n",
        "\n",
        "\n"
      ],
      "execution_count": null,
      "outputs": [
        {
          "output_type": "stream",
          "name": "stdout",
          "text": [
            "# ==========================================================\n",
            "# = Solver Results                                         =\n",
            "# ==========================================================\n",
            "# ----------------------------------------------------------\n",
            "#   Problem Information\n",
            "# ----------------------------------------------------------\n",
            "Problem: \n",
            "- Name: unknown\n",
            "  Lower bound: 320.0\n",
            "  Upper bound: 320.0\n",
            "  Number of objectives: 1\n",
            "  Number of constraints: 3\n",
            "  Number of variables: 3\n",
            "  Number of nonzeros: 5\n",
            "  Sense: minimize\n",
            "# ----------------------------------------------------------\n",
            "#   Solver Information\n",
            "# ----------------------------------------------------------\n",
            "Solver: \n",
            "- Status: ok\n",
            "  Termination condition: optimal\n",
            "  Statistics: \n",
            "    Branch and bound: \n",
            "      Number of bounded subproblems: 0\n",
            "      Number of created subproblems: 0\n",
            "  Error rc: 0\n",
            "  Time: 0.009113788604736328\n",
            "# ----------------------------------------------------------\n",
            "#   Solution Information\n",
            "# ----------------------------------------------------------\n",
            "Solution: \n",
            "- number of solutions: 0\n",
            "  number of solutions displayed: 0\n",
            "\n",
            " Results \n",
            "\n",
            "cost of the advertisement campaign 320.0\n",
            "Number of the comedy ads purchased 3.6\n",
            "Number of the football ads purchased 1.4\n"
          ]
        }
      ]
    }
  ]
}